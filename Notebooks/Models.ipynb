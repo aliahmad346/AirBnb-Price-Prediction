{
 "cells": [
  {
   "cell_type": "code",
   "execution_count": 5,
   "metadata": {
    "colab": {
     "base_uri": "https://localhost:8080/"
    },
    "id": "wqlVZXVDkPka",
    "outputId": "26c4794a-cfbc-43b2-8c0c-c03d42c8cec7"
   },
   "outputs": [],
   "source": [
    "# from google.colab import drive\n",
    "# drive.mount('/content/drive')\n",
    "\n",
    "import warnings\n",
    "import pandas as pd\n",
    "warnings.filterwarnings(\"ignore\")"
   ]
  },
  {
   "cell_type": "markdown",
   "metadata": {
    "id": "41Q_EMWRQbvc"
   },
   "source": [
    "## Model"
   ]
  },
  {
   "cell_type": "code",
   "execution_count": 6,
   "metadata": {
    "colab": {
     "base_uri": "https://localhost:8080/",
     "height": 334
    },
    "id": "9cfd185e-4044-4a75-876a-dab3c4115ffe",
    "outputId": "741dafed-e877-47db-e0b9-6c0acde2cf63"
   },
   "outputs": [],
   "source": [
    "from sklearn.model_selection import GridSearchCV\n",
    "from sklearn.linear_model import BayesianRidge\n",
    "from sklearn.tree import DecisionTreeRegressor\n",
    "from sklearn.ensemble import RandomForestRegressor\n",
    "from sklearn.ensemble import GradientBoostingRegressor\n",
    "# from lightgbm import LGBMRegressor\n",
    "# from xgboost.sklearn import XGBRegressor\n",
    "# from catboost import CatBoostRegressor"
   ]
  },
  {
   "cell_type": "code",
   "execution_count": 14,
   "metadata": {
    "id": "62b83c89-eada-4375-88e7-7f888357c263"
   },
   "outputs": [],
   "source": [
    "# property features so far... add more\n",
    "features = ['bedrooms', 'property_group_0', 'property_group_1', 'property_group_2', 'property_group_3', 'property_group_4', \n",
    "            'room_type_entire_home/apt', 'room_type_hotel_room', 'room_type_private_room', 'room_type_shared_room', \n",
    "            'crowdedness_adj_ratio', 'gym', 'outdoor_furniture', 'washer', \n",
    "            'free_parking_on_premises', 'hot_water', 'laundromat_nearby', 'dryer', 'heating', 'paid_parking_off_premises', \n",
    "            'tv', 'oven', 'air_conditioning', 'free_street_parking', 'coffee_maker', 'room-darkening_shades', \n",
    "            'wine_glasses', 'fire_extinguisher', 'bbq_grill', 'lock_on_bedroom_door', 'indoor_fireplace', 'hangers',\n",
    "            'baking_sheet', 'patio_or_balcony', 'bathtub', 'private_entrance', 'hair_dryer', 'keypad', \n",
    "            'elevator', 'dishwasher', 'lockbox']"
   ]
  },
  {
   "cell_type": "code",
   "execution_count": 15,
   "metadata": {},
   "outputs": [],
   "source": [
    "df_train = pd.read_csv('/Users/ali/Downloads/train-3.csv')\n",
    "df_test = pd.read_csv('/Users/ali/Downloads/test-2.csv')"
   ]
  },
  {
   "cell_type": "code",
   "execution_count": 16,
   "metadata": {
    "id": "6be1e668-c2dc-484c-8a7b-614c0dc344fa"
   },
   "outputs": [],
   "source": [
    "X_train = df_train[features]\n",
    "y_train = df_train['price']\n",
    "X_test = df_test[features]\n",
    "y_test = df_test['price']"
   ]
  },
  {
   "cell_type": "markdown",
   "metadata": {
    "id": "1c1c5435-5297-4923-8788-d6ebf3fc5c73"
   },
   "source": [
    "<u>Linear Regression</u>"
   ]
  },
  {
   "cell_type": "code",
   "execution_count": null,
   "metadata": {
    "id": "80e7a5c8-fd5c-4ad6-a66e-eebfd7808217"
   },
   "outputs": [],
   "source": [
    "LR = LinearRegression()\n",
    "LR.fit(X_train, y_train)\n",
    "y_pred_lr = LR.predict(X_test)"
   ]
  },
  {
   "cell_type": "code",
   "execution_count": null,
   "metadata": {
    "id": "21af7ffe-f074-416d-b5af-605bbb74d9e4"
   },
   "outputs": [],
   "source": [
    "RMSE_LR = mean_squared_error(y_test, y_pred_lr, squared=False)"
   ]
  },
  {
   "cell_type": "code",
   "execution_count": null,
   "metadata": {
    "id": "6be7ad06-53a4-4e78-b7cf-85c0e2b66ddd"
   },
   "outputs": [],
   "source": [
    "R2_LR = r2_score(y_test, y_pred_lr)"
   ]
  },
  {
   "cell_type": "markdown",
   "metadata": {
    "id": "1dbfb059-66fa-426d-97f6-41bceff352ce"
   },
   "source": [
    "<u>Bayesian Ridge</u>"
   ]
  },
  {
   "cell_type": "code",
   "execution_count": null,
   "metadata": {
    "id": "734f70eb-6fe4-4c53-ba83-550ec1f2a66b"
   },
   "outputs": [],
   "source": [
    "BR = BayesianRidge()\n",
    "BR.fit(X_train, y_train)\n",
    "y_pred_br = BR.predict(X_test)"
   ]
  },
  {
   "cell_type": "code",
   "execution_count": null,
   "metadata": {
    "id": "81fabbb1-13c3-46c5-a561-df8c8f2974be"
   },
   "outputs": [],
   "source": [
    "RMSE_BR = mean_squared_error(y_test, y_pred_br, squared=False)"
   ]
  },
  {
   "cell_type": "code",
   "execution_count": null,
   "metadata": {
    "id": "dcfcaf31-5130-45cc-aa78-82e58047d892"
   },
   "outputs": [],
   "source": [
    "R2_BR = r2_score(y_test, y_pred_br)"
   ]
  },
  {
   "cell_type": "markdown",
   "metadata": {
    "id": "8f164a70-0d21-4038-95f5-ff4ca2cf2574"
   },
   "source": [
    "<u>Decision Tree</u>"
   ]
  },
  {
   "cell_type": "code",
   "execution_count": null,
   "metadata": {
    "id": "7728a0a0-e7c4-4f49-8c90-c181c2f80244",
    "outputId": "03c98083-7f91-42d5-d8f9-f9c55e9cc755"
   },
   "outputs": [
    {
     "name": "stdout",
     "output_type": "stream",
     "text": [
      "Best CV params {'max_depth': 7, 'min_samples_leaf': 15}\n"
     ]
    }
   ],
   "source": [
    "DT = DecisionTreeRegressor(random_state=37)\n",
    "parameters = {'max_depth': [6, 7, 8, 9, 10], 'min_samples_leaf': [13, 14, 15, 16, 17, 18]}\n",
    "searcher = GridSearchCV(DT, parameters)\n",
    "searcher.fit(X_train, y_train)\n",
    "print(\"Best CV params\", searcher.best_params_)"
   ]
  },
  {
   "cell_type": "code",
   "execution_count": null,
   "metadata": {
    "id": "ddca1ea4-c577-4547-b565-828dfb10252c"
   },
   "outputs": [],
   "source": [
    "DT = DecisionTreeRegressor(max_depth=7, min_samples_leaf=15, random_state=37)\n",
    "DT.fit(X_train, y_train)\n",
    "y_pred_dt = DT.predict(X_test)"
   ]
  },
  {
   "cell_type": "code",
   "execution_count": null,
   "metadata": {
    "id": "e3b2bc29-dd44-4caa-a693-60b6a75ded49"
   },
   "outputs": [],
   "source": [
    "RMSE_DT = mean_squared_error(y_test, y_pred_dt, squared=False)"
   ]
  },
  {
   "cell_type": "code",
   "execution_count": null,
   "metadata": {
    "id": "3a3694a3-df2f-41a3-ad72-8c743a809bb6"
   },
   "outputs": [],
   "source": [
    "R2_DT = r2_score(y_test, y_pred_dt)"
   ]
  },
  {
   "cell_type": "markdown",
   "metadata": {
    "id": "f26bfb0b-700a-49d8-8b55-2902a0ea5fd9"
   },
   "source": [
    "<u>Random Forest</u>"
   ]
  },
  {
   "cell_type": "code",
   "execution_count": null,
   "metadata": {
    "id": "8ef7c828-8e74-48a1-a134-0f3b6db8f93f"
   },
   "outputs": [],
   "source": [
    "RF = RandomForestRegressor(random_state=37)\n",
    "RF.fit(X_train, y_train)\n",
    "y_pred_rf = RF.predict(X_test)"
   ]
  },
  {
   "cell_type": "code",
   "execution_count": null,
   "metadata": {
    "id": "df101f53-bb54-4610-94c9-7c37e9303428"
   },
   "outputs": [],
   "source": [
    "RMSE_RF = mean_squared_error(y_test, y_pred_rf, squared=False)"
   ]
  },
  {
   "cell_type": "code",
   "execution_count": null,
   "metadata": {
    "id": "a7e55a63-c7c4-4388-841f-ccc3bcb265f0"
   },
   "outputs": [],
   "source": [
    "R2_RF = r2_score(y_test, y_pred_rf)"
   ]
  },
  {
   "cell_type": "markdown",
   "metadata": {
    "id": "c30b830a-1e84-4310-9128-79b6b7c00b9c"
   },
   "source": [
    "<u>Gradient Boost</u>"
   ]
  },
  {
   "cell_type": "code",
   "execution_count": null,
   "metadata": {
    "id": "65aaca98-90f6-4e97-914e-af655edbbb17"
   },
   "outputs": [],
   "source": [
    "GB = GradientBoostingRegressor(random_state=37)\n",
    "GB.fit(X_train, y_train)\n",
    "y_pred_gb = GB.predict(X_test)"
   ]
  },
  {
   "cell_type": "code",
   "execution_count": null,
   "metadata": {
    "id": "2283e13f-1bd5-4d12-bad2-2b94ba1ed13a"
   },
   "outputs": [],
   "source": [
    "RMSE_GB = mean_squared_error(y_test, y_pred_gb, squared=False)"
   ]
  },
  {
   "cell_type": "code",
   "execution_count": null,
   "metadata": {
    "id": "c7d47824-4cf5-4958-8774-e06884c271e0"
   },
   "outputs": [],
   "source": [
    "R2_GB = r2_score(y_test, y_pred_gb)"
   ]
  },
  {
   "cell_type": "markdown",
   "metadata": {
    "id": "4844d303-b54d-474b-a80e-99d856c5aa0b"
   },
   "source": [
    "<u>LightGBM</u>"
   ]
  },
  {
   "cell_type": "code",
   "execution_count": null,
   "metadata": {
    "id": "f3a9a505-39dd-488c-ae1d-eee8a65bddc6"
   },
   "outputs": [],
   "source": [
    "LGBM = LGBMRegressor(random_state=37)\n",
    "LGBM.fit(X_train, y_train)\n",
    "y_pred_lgbm = LGBM.predict(X_test)"
   ]
  },
  {
   "cell_type": "code",
   "execution_count": null,
   "metadata": {
    "id": "6bc48cea-0bfb-460f-bddb-702476ecd4d8"
   },
   "outputs": [],
   "source": [
    "RMSE_LGBM = mean_squared_error(y_test, y_pred_lgbm, squared=False)"
   ]
  },
  {
   "cell_type": "code",
   "execution_count": null,
   "metadata": {
    "id": "ce78ecd0-b46e-45cf-b568-8bcbb77e4c59"
   },
   "outputs": [],
   "source": [
    "R2_LGBM = r2_score(y_test, y_pred_lgbm)"
   ]
  },
  {
   "cell_type": "markdown",
   "metadata": {
    "id": "f390786a-4271-4aa8-899b-71fbb604343e"
   },
   "source": [
    "<u>XGBoost</u>"
   ]
  },
  {
   "cell_type": "code",
   "execution_count": null,
   "metadata": {
    "id": "058abb7c-5da7-43af-8588-d61b0ae63df8"
   },
   "outputs": [],
   "source": [
    "XGB = XGBRegressor(random_state=37)\n",
    "XGB.fit(X_train, y_train)\n",
    "y_pred_xgb = XGB.predict(X_test)"
   ]
  },
  {
   "cell_type": "code",
   "execution_count": null,
   "metadata": {
    "id": "0fb2d5d4-7589-48ff-98b8-c43737834938"
   },
   "outputs": [],
   "source": [
    "RMSE_XGB = mean_squared_error(y_test, y_pred_xgb, squared=False)"
   ]
  },
  {
   "cell_type": "code",
   "execution_count": null,
   "metadata": {
    "id": "13b212a1-8868-4feb-86e8-75e71f3f5e38"
   },
   "outputs": [],
   "source": [
    "R2_XGB = r2_score(y_test, y_pred_xgb)"
   ]
  },
  {
   "cell_type": "markdown",
   "metadata": {
    "id": "7fe4ec5d-44ba-4526-82ac-1bf7b8bbcb87"
   },
   "source": [
    "<u>CatBoost</u>"
   ]
  },
  {
   "cell_type": "code",
   "execution_count": null,
   "metadata": {
    "id": "78a8390d-89a7-49f1-a6d1-3ca3a2eda098",
    "tags": []
   },
   "outputs": [],
   "source": [
    "CB = CatBoostRegressor(random_state=37, silent=True)\n",
    "CB.fit(X_train, y_train)\n",
    "y_pred_cb = CB.predict(X_test)"
   ]
  },
  {
   "cell_type": "code",
   "execution_count": null,
   "metadata": {
    "id": "116ff9b5-579d-4221-ab5b-dad9f674dc50"
   },
   "outputs": [],
   "source": [
    "RMSE_CB = mean_squared_error(y_test, y_pred_cb, squared=False)"
   ]
  },
  {
   "cell_type": "code",
   "execution_count": null,
   "metadata": {
    "id": "613a765f-4682-4bf2-bec7-1b4ac194c055"
   },
   "outputs": [],
   "source": [
    "R2_CB = r2_score(y_test, y_pred_cb)"
   ]
  },
  {
   "cell_type": "markdown",
   "metadata": {
    "id": "d1b867ac-3faf-4e52-9f97-3f8c4ca29656"
   },
   "source": [
    "Look at the results. "
   ]
  },
  {
   "cell_type": "code",
   "execution_count": null,
   "metadata": {
    "id": "0263c569-bdbb-4395-9fb2-4375f463ebc9",
    "outputId": "0ce69b4c-e932-4824-dfe0-f28914069c34"
   },
   "outputs": [
    {
     "name": "stdout",
     "output_type": "stream",
     "text": [
      "            Linear    Bayesian Ridge    Decision Tree    Random Forest    Gradient Boost      LightGBM       XGBoost      CatBoost\n",
      "----  ------------  ----------------  ---------------  ---------------  ----------------  ------------  ------------  ------------\n",
      "RMSE  209.35115085      209.02061415     216.71188265     189.96633234      191.61123478  188.54722091  193.47362788  186.23005376\n",
      "R2      0.31094150        0.31311564       0.26163545       0.43264007        0.42277208    0.44108514    0.41149665    0.45473839\n"
     ]
    }
   ],
   "source": [
    "RMSE = [RMSE_LR, RMSE_BR, RMSE_DT, RMSE_RF, RMSE_GB, RMSE_LGBM, RMSE_XGB, RMSE_CB]\n",
    "R2 = [R2_LR, R2_BR, R2_DT, R2_RF, R2_GB, R2_LGBM, R2_XGB, R2_CB]\n",
    "\n",
    "table = []\n",
    "for name, metric in zip(['RMSE', 'R2'], [RMSE, R2]):\n",
    "    table.append([name] + metric)\n",
    "print(tabulate(table, headers=['Linear', \n",
    "                               'Bayesian Ridge', \n",
    "                               'Decision Tree', \n",
    "                               'Random Forest', \n",
    "                               'Gradient Boost', \n",
    "                               'LightGBM', \n",
    "                               'XGBoost', \n",
    "                               'CatBoost'], floatfmt=\".8f\"))"
   ]
  },
  {
   "cell_type": "code",
   "execution_count": null,
   "metadata": {
    "id": "b9aa89d2-fef1-456d-9cf1-7e3df793fa35"
   },
   "outputs": [],
   "source": [
    "from xgboost import plot_importance"
   ]
  },
  {
   "cell_type": "code",
   "execution_count": null,
   "metadata": {
    "id": "ce83dd88-217a-46b5-8dc9-7bf8ac9ed44b",
    "outputId": "743d22ad-54d5-473e-a086-c842ef874c03"
   },
   "outputs": [
    {
     "data": {
      "image/png": "[encoded data removed]",
      "text/plain": [
       "<Figure size 864x720 with 1 Axes>"
      ]
     },
     "metadata": {
      "needs_background": "light"
     },
     "output_type": "display_data"
    }
   ],
   "source": [
    "fig, ax = plt.subplots(1, 1, figsize=(12, 10))\n",
    "plot_importance(XGB, ax=ax); "
   ]
  },
  {
   "cell_type": "code",
   "execution_count": null,
   "metadata": {
    "id": "3a0144ca-3e54-469d-8d63-762601e7ecd1"
   },
   "outputs": [],
   "source": [
    "# view outliers for training"
   ]
  },
  {
   "cell_type": "code",
   "execution_count": null,
   "metadata": {
    "id": "231f0c98-9baa-42f6-b550-56cf6972879b"
   },
   "outputs": [],
   "source": [
    "# model = LinearRegression()\n",
    "# model.fit(X_train, y_train)\n",
    "# y_pred_train = model.predict(X_train)"
   ]
  },
  {
   "cell_type": "code",
   "execution_count": null,
   "metadata": {
    "id": "cc61bd53-38d7-41f6-8e19-5ad173adb16f"
   },
   "outputs": [],
   "source": [
    "# X_train['room_type'] = X_train[['room_type_entire_home/apt',\n",
    "#                                 'room_type_hotel_room', \n",
    "#                                 'room_type_private_room',\n",
    "#                                 'room_type_shared_room']].idxmax(axis=1).str[10:].str.capitalize().str.replace('_', ' ')\n",
    "\n",
    "# predicted = pd.Series(y_pred_train, index=X_train.index, name='price')\n",
    "# train = X_train.join(predicted)\n",
    "# train['room_type'] = train['room_type'].astype('category')\n",
    "\n",
    "# plt.figure(figsize=(15, 6))\n",
    "# ax = sns.boxplot(x = 'price', y = 'room_type', orient = 'h', data=train).set(title='Room Type vs. Price');"
   ]
  },
  {
   "cell_type": "code",
   "execution_count": null,
   "metadata": {
    "id": "175877d6-5197-4645-965f-c8262f9f6a02"
   },
   "outputs": [],
   "source": [
    "# view outliers for testing"
   ]
  },
  {
   "cell_type": "code",
   "execution_count": null,
   "metadata": {
    "id": "a82ecf00-0ffd-446f-9a74-71e598e6c441"
   },
   "outputs": [],
   "source": [
    "# X_test['room_type'] = X_test[['room_type_entire_home/apt',\n",
    "#                               'room_type_hotel_room', \n",
    "#                               'room_type_private_room',\n",
    "#                               'room_type_shared_room']].idxmax(axis=1).str[10:].str.capitalize().str.replace('_', ' ')\n",
    "\n",
    "# predicted = pd.Series(y_pred, index=X_test.index, name='price')\n",
    "# test = X_test.join(predicted)\n",
    "# test['room_type'] = test['room_type'].astype('category')\n",
    "\n",
    "# plt.figure(figsize=(15, 6))\n",
    "# ax = sns.boxplot(x = 'price', y = 'room_type', orient = 'h', data=test).set(title='Room Type vs. Price');"
   ]
  }
 ],
 "metadata": {
  "colab": {
   "collapsed_sections": [],
   "name": "Models.ipynb",
   "provenance": []
  },
  "kernelspec": {
   "display_name": "Python 3",
   "language": "python",
   "name": "python3"
  },
  "language_info": {
   "codemirror_mode": {
    "name": "ipython",
    "version": 3
   },
   "file_extension": ".py",
   "mimetype": "text/x-python",
   "name": "python",
   "nbconvert_exporter": "python",
   "pygments_lexer": "ipython3",
   "version": "3.8.8"
  }
 },
 "nbformat": 4,
 "nbformat_minor": 4
}
